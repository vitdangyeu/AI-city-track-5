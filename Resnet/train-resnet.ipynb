{
 "cells": [
  {
   "cell_type": "markdown",
   "id": "c0dd43fa",
   "metadata": {
    "id": "BXcIreBl-4T1",
    "papermill": {
     "duration": 0.005963,
     "end_time": "2024-03-23T14:23:46.290617",
     "exception": false,
     "start_time": "2024-03-23T14:23:46.284654",
     "status": "completed"
    },
    "tags": []
   },
   "source": [
    "## **Library**"
   ]
  },
  {
   "cell_type": "code",
   "execution_count": 1,
   "id": "6bc4b608",
   "metadata": {
    "execution": {
     "iopub.execute_input": "2024-03-23T14:23:46.302996Z",
     "iopub.status.busy": "2024-03-23T14:23:46.302634Z",
     "iopub.status.idle": "2024-03-23T14:23:55.441321Z",
     "shell.execute_reply": "2024-03-23T14:23:55.440528Z"
    },
    "id": "WGWG1YIM2NEP",
    "papermill": {
     "duration": 9.147427,
     "end_time": "2024-03-23T14:23:55.443684",
     "exception": false,
     "start_time": "2024-03-23T14:23:46.296257",
     "status": "completed"
    },
    "tags": []
   },
   "outputs": [],
   "source": [
    "import torch\n",
    "import torch.nn as nn\n",
    "import torchvision.models as models\n",
    "from torch.utils.data import Dataset,DataLoader\n",
    "import torch.optim as optim\n",
    "\n",
    "import pandas as pd\n",
    "from sklearn.model_selection import train_test_split\n",
    "import matplotlib.pyplot as plt\n",
    "import cv2\n",
    "import os\n",
    "import numpy as np\n",
    "from tqdm import tqdm\n",
    "import time\n",
    "\n",
    "from PIL import Image\n",
    "from torchvision import transforms\n",
    "from torchvision.transforms import Resize\n",
    "import albumentations as A\n",
    "import matplotlib.pyplot as plt\n",
    "from albumentations.pytorch.transforms import ToTensorV2\n",
    "from torchvision.transforms.functional import InterpolationMode"
   ]
  },
  {
   "cell_type": "markdown",
   "id": "4cbd7b6e",
   "metadata": {
    "id": "L8Ko2qQe2NEQ",
    "papermill": {
     "duration": 0.005202,
     "end_time": "2024-03-23T14:23:55.454557",
     "exception": false,
     "start_time": "2024-03-23T14:23:55.449355",
     "status": "completed"
    },
    "tags": []
   },
   "source": [
    "## **Dataset**"
   ]
  },
  {
   "cell_type": "code",
   "execution_count": 2,
   "id": "bfd018c5",
   "metadata": {
    "execution": {
     "iopub.execute_input": "2024-03-23T14:23:55.466921Z",
     "iopub.status.busy": "2024-03-23T14:23:55.465995Z",
     "iopub.status.idle": "2024-03-23T14:23:55.471138Z",
     "shell.execute_reply": "2024-03-23T14:23:55.470257Z"
    },
    "id": "M_5U5Bv42NER",
    "papermill": {
     "duration": 0.013403,
     "end_time": "2024-03-23T14:23:55.473200",
     "exception": false,
     "start_time": "2024-03-23T14:23:55.459797",
     "status": "completed"
    },
    "tags": []
   },
   "outputs": [],
   "source": [
    "# Transform\n",
    "transform = transforms.Compose([\n",
    "        transforms.Resize((150,150),interpolation=InterpolationMode.BICUBIC),\n",
    "        transforms.ToTensor(),\n",
    "        #transforms.Normalize((0.48145466, 0.4578275, 0.40821073), (0.26862954, 0.26130258, 0.27577711))\n",
    "        ])"
   ]
  },
  {
   "cell_type": "code",
   "execution_count": 3,
   "id": "e8b0a9f1",
   "metadata": {
    "execution": {
     "iopub.execute_input": "2024-03-23T14:23:55.485148Z",
     "iopub.status.busy": "2024-03-23T14:23:55.484333Z",
     "iopub.status.idle": "2024-03-23T14:23:55.493351Z",
     "shell.execute_reply": "2024-03-23T14:23:55.492663Z"
    },
    "id": "Om8X4DJz71g1",
    "papermill": {
     "duration": 0.016894,
     "end_time": "2024-03-23T14:23:55.495282",
     "exception": false,
     "start_time": "2024-03-23T14:23:55.478388",
     "status": "completed"
    },
    "tags": []
   },
   "outputs": [],
   "source": [
    "class HelmetDataset(Dataset):\n",
    "    def __init__(self, df, root_dir, transform, target_transform):\n",
    "        self.root_dir = root_dir\n",
    "        self.df = df\n",
    "        self.transform = transform\n",
    "        self.target_transform = target_transform\n",
    "\n",
    "    def get_image(self, row):\n",
    "        \"\"\"Gets the image for a given row\"\"\"\n",
    "        image_path = os.path.join(self.root_dir,str(row['id'])+\".jpg\")\n",
    "        image = Image.open(image_path).convert('RGB')\n",
    "        return image\n",
    "\n",
    "    def __len__(self):\n",
    "        return len(self.df)\n",
    "\n",
    "    def __getitem__(self, idx):\n",
    "        row = self.df.iloc[idx]\n",
    "        image = self.get_image(row)\n",
    "        label = torch.as_tensor(row['class_id'],dtype=torch.long)\n",
    "        if self.transform:\n",
    "            image = self.transform(image)\n",
    "        if self.target_transform:\n",
    "            label = self.target_transform(label)\n",
    "        return image, label"
   ]
  },
  {
   "cell_type": "code",
   "execution_count": 4,
   "id": "616c1f5e",
   "metadata": {
    "execution": {
     "iopub.execute_input": "2024-03-23T14:23:55.507083Z",
     "iopub.status.busy": "2024-03-23T14:23:55.506385Z",
     "iopub.status.idle": "2024-03-23T14:23:55.587857Z",
     "shell.execute_reply": "2024-03-23T14:23:55.586933Z"
    },
    "id": "_CuanDJI2NER",
    "papermill": {
     "duration": 0.089526,
     "end_time": "2024-03-23T14:23:55.590094",
     "exception": false,
     "start_time": "2024-03-23T14:23:55.500568",
     "status": "completed"
    },
    "tags": []
   },
   "outputs": [],
   "source": [
    "# Phân chia dữ liệu thành tập train và tập test\n",
    "train_data = pd.read_csv(r\"/kaggle/input/resnet-dataset/Data/Data/Ground_truth/gt_resnet_train.csv\")\n",
    "test_data = pd.read_csv(r\"/kaggle/input/resnet-dataset/Data/Data/Ground_truth/gt_resnet_val.csv\")\n",
    "train_dir = r\"/kaggle/input/resnet-dataset/Data/Data/Train\"\n",
    "test_dir = r\"/kaggle/input/resnet-dataset/Data/Data/Test\"\n",
    "# Phân chia dữ liệu thành tập train và tập test\n",
    "train_data, val_data = train_test_split(train_data, test_size=0.2)"
   ]
  },
  {
   "cell_type": "code",
   "execution_count": 5,
   "id": "96db9e0d",
   "metadata": {
    "execution": {
     "iopub.execute_input": "2024-03-23T14:23:55.602188Z",
     "iopub.status.busy": "2024-03-23T14:23:55.601430Z",
     "iopub.status.idle": "2024-03-23T14:23:55.606872Z",
     "shell.execute_reply": "2024-03-23T14:23:55.605856Z"
    },
    "id": "PqPWc3sq2NER",
    "outputId": "94af10e4-0203-4ab2-8684-24e56e5db815",
    "papermill": {
     "duration": 0.013723,
     "end_time": "2024-03-23T14:23:55.609078",
     "exception": false,
     "start_time": "2024-03-23T14:23:55.595355",
     "status": "completed"
    },
    "tags": []
   },
   "outputs": [
    {
     "name": "stdout",
     "output_type": "stream",
     "text": [
      "Len train data: 26168\n",
      "Len val_data: 6542\n",
      "Len test_data: 5086\n"
     ]
    }
   ],
   "source": [
    "print(\"Len train data:\",len(train_data))\n",
    "print(\"Len val_data:\",len(val_data))\n",
    "print(\"Len test_data:\",len(test_data))"
   ]
  },
  {
   "cell_type": "code",
   "execution_count": 6,
   "id": "cf4e0f1b",
   "metadata": {
    "execution": {
     "iopub.execute_input": "2024-03-23T14:23:55.620726Z",
     "iopub.status.busy": "2024-03-23T14:23:55.620457Z",
     "iopub.status.idle": "2024-03-23T14:23:55.627348Z",
     "shell.execute_reply": "2024-03-23T14:23:55.626456Z"
    },
    "id": "fBrYEdLV2NES",
    "papermill": {
     "duration": 0.015074,
     "end_time": "2024-03-23T14:23:55.629355",
     "exception": false,
     "start_time": "2024-03-23T14:23:55.614281",
     "status": "completed"
    },
    "tags": []
   },
   "outputs": [],
   "source": [
    "BATCH_SIZE = 128\n",
    "NUM_WORKERS = 1\n",
    "\n",
    "train_dataset = HelmetDataset(df = train_data, root_dir = train_dir, transform = transform, target_transform = None)\n",
    "val_dataset = HelmetDataset(df = val_data, root_dir = train_dir, transform = transform, target_transform = None)\n",
    "test_dataset = HelmetDataset(df = test_data, root_dir = test_dir, transform = transform, target_transform = None)\n",
    "\n",
    "dl_train = DataLoader(train_dataset, batch_size=BATCH_SIZE,\n",
    "                        shuffle=True, num_workers=NUM_WORKERS)\n",
    "dl_val = DataLoader(val_dataset, batch_size=BATCH_SIZE, shuffle=False,\n",
    "                    num_workers=NUM_WORKERS)\n",
    "dl_test = DataLoader(test_dataset, batch_size=BATCH_SIZE, shuffle=False,\n",
    "                    num_workers=NUM_WORKERS)"
   ]
  },
  {
   "cell_type": "markdown",
   "id": "ccde1b86",
   "metadata": {
    "id": "8_UPdAfV2NES",
    "papermill": {
     "duration": 0.00499,
     "end_time": "2024-03-23T14:23:55.639473",
     "exception": false,
     "start_time": "2024-03-23T14:23:55.634483",
     "status": "completed"
    },
    "tags": []
   },
   "source": [
    "## **Model**"
   ]
  },
  {
   "cell_type": "code",
   "execution_count": 7,
   "id": "a578df82",
   "metadata": {
    "execution": {
     "iopub.execute_input": "2024-03-23T14:23:55.650843Z",
     "iopub.status.busy": "2024-03-23T14:23:55.650553Z",
     "iopub.status.idle": "2024-03-23T14:23:55.654510Z",
     "shell.execute_reply": "2024-03-23T14:23:55.653637Z"
    },
    "papermill": {
     "duration": 0.011766,
     "end_time": "2024-03-23T14:23:55.656363",
     "exception": false,
     "start_time": "2024-03-23T14:23:55.644597",
     "status": "completed"
    },
    "tags": []
   },
   "outputs": [],
   "source": [
    "device = torch.device('cuda')"
   ]
  },
  {
   "cell_type": "code",
   "execution_count": 8,
   "id": "68fbd913",
   "metadata": {
    "execution": {
     "iopub.execute_input": "2024-03-23T14:23:55.668162Z",
     "iopub.status.busy": "2024-03-23T14:23:55.667660Z",
     "iopub.status.idle": "2024-03-23T14:23:56.972711Z",
     "shell.execute_reply": "2024-03-23T14:23:56.971633Z"
    },
    "id": "fgr7D9e-2NES",
    "outputId": "785f31a5-1938-45a8-bb5d-650f0092cce5",
    "papermill": {
     "duration": 1.313789,
     "end_time": "2024-03-23T14:23:56.975451",
     "exception": false,
     "start_time": "2024-03-23T14:23:55.661662",
     "status": "completed"
    },
    "tags": []
   },
   "outputs": [
    {
     "name": "stderr",
     "output_type": "stream",
     "text": [
      "/opt/conda/lib/python3.10/site-packages/torchvision/models/_utils.py:223: UserWarning: Arguments other than a weight enum or `None` for 'weights' are deprecated since 0.13 and may be removed in the future. The current behavior is equivalent to passing `weights=None`.\n",
      "  warnings.warn(msg)\n"
     ]
    }
   ],
   "source": [
    "# Load pre-trained ResNet-50\n",
    "resnet = models.resnet101(weights=False)\n",
    "resnet = nn.Sequential(*list(resnet.children())[:-1])\n",
    "mlp = nn.Sequential(\n",
    "    nn.Linear(2048, 2),\n",
    ")\n",
    "# Kết hợp ResNet và MLP\n",
    "class CombinedModel(nn.Module):\n",
    "    def __init__(self, encoder, head):\n",
    "        super(CombinedModel, self).__init__()\n",
    "        self.encoder = encoder\n",
    "        self.head = head\n",
    "\n",
    "    def forward(self, x):\n",
    "        x = self.encoder(x)\n",
    "        x = x.view(x.size(0), -1)\n",
    "        x = self.head(x)\n",
    "        return x\n",
    "\n",
    "# Tạo mô hình hoàn chỉnh\n",
    "model = CombinedModel(resnet, mlp).to(device)\n",
    "# Chọn hàm mất mát và tối ưu hóa\n",
    "weights = torch.tensor([0.6, 0.4])\n",
    "criterion = nn.CrossEntropyLoss(weight=weights).to(device)\n",
    "optimizer = optim.Adam(model.parameters(), lr=0.001)"
   ]
  },
  {
   "cell_type": "code",
   "execution_count": 9,
   "id": "a412704a",
   "metadata": {
    "execution": {
     "iopub.execute_input": "2024-03-23T14:23:56.988753Z",
     "iopub.status.busy": "2024-03-23T14:23:56.988145Z",
     "iopub.status.idle": "2024-03-23T16:38:24.386846Z",
     "shell.execute_reply": "2024-03-23T16:38:24.385765Z"
    },
    "id": "V8sDbfih2NET",
    "outputId": "20aa9be1-8710-42a4-9dec-f0a811fb1d52",
    "papermill": {
     "duration": 8067.417843,
     "end_time": "2024-03-23T16:38:24.399313",
     "exception": false,
     "start_time": "2024-03-23T14:23:56.981470",
     "status": "completed"
    },
    "tags": []
   },
   "outputs": [
    {
     "name": "stderr",
     "output_type": "stream",
     "text": [
      "  3%|▎         | 1/30 [05:02<2:26:24, 302.90s/it]"
     ]
    },
    {
     "name": "stdout",
     "output_type": "stream",
     "text": [
      "Epoch 1/30, Train_Loss: 0.6276,  Train_Acc: 0.7198, Val_Loss: 0.5429,  Val_Acc: 0.7411, [5 mins]\n"
     ]
    },
    {
     "name": "stderr",
     "output_type": "stream",
     "text": [
      "  7%|▋         | 2/30 [09:31<2:11:52, 282.59s/it]"
     ]
    },
    {
     "name": "stdout",
     "output_type": "stream",
     "text": [
      "Epoch 2/30, Train_Loss: 0.3756,  Train_Acc: 0.8412, Val_Loss: 0.5189,  Val_Acc: 0.7889, [4 mins]\n"
     ]
    },
    {
     "name": "stderr",
     "output_type": "stream",
     "text": [
      " 10%|█         | 3/30 [13:59<2:04:11, 275.98s/it]"
     ]
    },
    {
     "name": "stdout",
     "output_type": "stream",
     "text": [
      "Epoch 3/30, Train_Loss: 0.2626,  Train_Acc: 0.8932, Val_Loss: 0.3793,  Val_Acc: 0.8283, [4 mins]\n"
     ]
    },
    {
     "name": "stderr",
     "output_type": "stream",
     "text": [
      " 13%|█▎        | 4/30 [18:28<1:58:20, 273.11s/it]"
     ]
    },
    {
     "name": "stdout",
     "output_type": "stream",
     "text": [
      "Epoch 4/30, Train_Loss: 0.2050,  Train_Acc: 0.9178, Val_Loss: 0.3192,  Val_Acc: 0.8965, [4 mins]\n"
     ]
    },
    {
     "name": "stderr",
     "output_type": "stream",
     "text": [
      " 17%|█▋        | 5/30 [22:56<1:53:05, 271.41s/it]"
     ]
    },
    {
     "name": "stdout",
     "output_type": "stream",
     "text": [
      "Epoch 5/30, Train_Loss: 0.1607,  Train_Acc: 0.9381, Val_Loss: 0.2394,  Val_Acc: 0.9156, [4 mins]\n"
     ]
    },
    {
     "name": "stderr",
     "output_type": "stream",
     "text": [
      " 20%|██        | 6/30 [27:24<1:48:07, 270.32s/it]"
     ]
    },
    {
     "name": "stdout",
     "output_type": "stream",
     "text": [
      "Epoch 6/30, Train_Loss: 0.1270,  Train_Acc: 0.9528, Val_Loss: 0.2394,  Val_Acc: 0.9138, [4 mins]\n"
     ]
    },
    {
     "name": "stderr",
     "output_type": "stream",
     "text": [
      " 23%|██▎       | 7/30 [31:52<1:43:18, 269.49s/it]"
     ]
    },
    {
     "name": "stdout",
     "output_type": "stream",
     "text": [
      "Epoch 7/30, Train_Loss: 0.1049,  Train_Acc: 0.9605, Val_Loss: 0.2112,  Val_Acc: 0.9253, [4 mins]\n"
     ]
    },
    {
     "name": "stderr",
     "output_type": "stream",
     "text": [
      " 27%|██▋       | 8/30 [36:20<1:38:39, 269.06s/it]"
     ]
    },
    {
     "name": "stdout",
     "output_type": "stream",
     "text": [
      "Epoch 8/30, Train_Loss: 0.1104,  Train_Acc: 0.9599, Val_Loss: 0.6717,  Val_Acc: 0.8442, [4 mins]\n"
     ]
    },
    {
     "name": "stderr",
     "output_type": "stream",
     "text": [
      " 30%|███       | 9/30 [40:48<1:34:04, 268.77s/it]"
     ]
    },
    {
     "name": "stdout",
     "output_type": "stream",
     "text": [
      "Epoch 9/30, Train_Loss: 0.1005,  Train_Acc: 0.9629, Val_Loss: 0.2020,  Val_Acc: 0.9329, [4 mins]\n"
     ]
    },
    {
     "name": "stderr",
     "output_type": "stream",
     "text": [
      " 33%|███▎      | 10/30 [45:16<1:29:30, 268.51s/it]"
     ]
    },
    {
     "name": "stdout",
     "output_type": "stream",
     "text": [
      "Epoch 10/30, Train_Loss: 0.0638,  Train_Acc: 0.9778, Val_Loss: 0.2665,  Val_Acc: 0.9330, [4 mins]\n"
     ]
    },
    {
     "name": "stderr",
     "output_type": "stream",
     "text": [
      " 37%|███▋      | 11/30 [49:44<1:24:56, 268.21s/it]"
     ]
    },
    {
     "name": "stdout",
     "output_type": "stream",
     "text": [
      "Epoch 11/30, Train_Loss: 0.0570,  Train_Acc: 0.9804, Val_Loss: 0.2193,  Val_Acc: 0.9249, [4 mins]\n"
     ]
    },
    {
     "name": "stderr",
     "output_type": "stream",
     "text": [
      " 40%|████      | 12/30 [54:12<1:20:28, 268.23s/it]"
     ]
    },
    {
     "name": "stdout",
     "output_type": "stream",
     "text": [
      "Epoch 12/30, Train_Loss: 0.0578,  Train_Acc: 0.9795, Val_Loss: 0.1699,  Val_Acc: 0.9544, [4 mins]\n"
     ]
    },
    {
     "name": "stderr",
     "output_type": "stream",
     "text": [
      " 43%|████▎     | 13/30 [58:40<1:15:57, 268.08s/it]"
     ]
    },
    {
     "name": "stdout",
     "output_type": "stream",
     "text": [
      "Epoch 13/30, Train_Loss: 0.0547,  Train_Acc: 0.9811, Val_Loss: 0.2292,  Val_Acc: 0.9384, [4 mins]\n"
     ]
    },
    {
     "name": "stderr",
     "output_type": "stream",
     "text": [
      " 47%|████▋     | 14/30 [1:03:07<1:11:26, 267.90s/it]"
     ]
    },
    {
     "name": "stdout",
     "output_type": "stream",
     "text": [
      "Epoch 14/30, Train_Loss: 0.0461,  Train_Acc: 0.9839, Val_Loss: 0.2106,  Val_Acc: 0.9439, [4 mins]\n"
     ]
    },
    {
     "name": "stderr",
     "output_type": "stream",
     "text": [
      " 50%|█████     | 15/30 [1:07:35<1:06:57, 267.85s/it]"
     ]
    },
    {
     "name": "stdout",
     "output_type": "stream",
     "text": [
      "Epoch 15/30, Train_Loss: 0.0417,  Train_Acc: 0.9851, Val_Loss: 0.2213,  Val_Acc: 0.9402, [4 mins]\n"
     ]
    },
    {
     "name": "stderr",
     "output_type": "stream",
     "text": [
      " 53%|█████▎    | 16/30 [1:12:03<1:02:29, 267.79s/it]"
     ]
    },
    {
     "name": "stdout",
     "output_type": "stream",
     "text": [
      "Epoch 16/30, Train_Loss: 0.0435,  Train_Acc: 0.9841, Val_Loss: 0.1790,  Val_Acc: 0.9445, [4 mins]\n"
     ]
    },
    {
     "name": "stderr",
     "output_type": "stream",
     "text": [
      " 57%|█████▋    | 17/30 [1:16:31<58:03, 267.93s/it]  "
     ]
    },
    {
     "name": "stdout",
     "output_type": "stream",
     "text": [
      "Epoch 17/30, Train_Loss: 0.0445,  Train_Acc: 0.9837, Val_Loss: 0.1698,  Val_Acc: 0.9497, [4 mins]\n"
     ]
    },
    {
     "name": "stderr",
     "output_type": "stream",
     "text": [
      " 60%|██████    | 18/30 [1:20:59<53:35, 267.93s/it]"
     ]
    },
    {
     "name": "stdout",
     "output_type": "stream",
     "text": [
      "Epoch 18/30, Train_Loss: 0.0343,  Train_Acc: 0.9876, Val_Loss: 0.2197,  Val_Acc: 0.9334, [4 mins]\n"
     ]
    },
    {
     "name": "stderr",
     "output_type": "stream",
     "text": [
      " 63%|██████▎   | 19/30 [1:25:26<49:06, 267.84s/it]"
     ]
    },
    {
     "name": "stdout",
     "output_type": "stream",
     "text": [
      "Epoch 19/30, Train_Loss: 0.0419,  Train_Acc: 0.9857, Val_Loss: 0.2869,  Val_Acc: 0.9375, [4 mins]\n"
     ]
    },
    {
     "name": "stderr",
     "output_type": "stream",
     "text": [
      " 67%|██████▋   | 20/30 [1:29:54<44:38, 267.84s/it]"
     ]
    },
    {
     "name": "stdout",
     "output_type": "stream",
     "text": [
      "Epoch 20/30, Train_Loss: 0.0303,  Train_Acc: 0.9895, Val_Loss: 0.2173,  Val_Acc: 0.9476, [4 mins]\n"
     ]
    },
    {
     "name": "stderr",
     "output_type": "stream",
     "text": [
      " 70%|███████   | 21/30 [1:34:22<40:09, 267.71s/it]"
     ]
    },
    {
     "name": "stdout",
     "output_type": "stream",
     "text": [
      "Epoch 21/30, Train_Loss: 0.0341,  Train_Acc: 0.9879, Val_Loss: 0.2492,  Val_Acc: 0.9415, [4 mins]\n"
     ]
    },
    {
     "name": "stderr",
     "output_type": "stream",
     "text": [
      " 73%|███████▎  | 22/30 [1:38:49<35:41, 267.65s/it]"
     ]
    },
    {
     "name": "stdout",
     "output_type": "stream",
     "text": [
      "Epoch 22/30, Train_Loss: 0.0367,  Train_Acc: 0.9864, Val_Loss: 0.1997,  Val_Acc: 0.9433, [4 mins]\n"
     ]
    },
    {
     "name": "stderr",
     "output_type": "stream",
     "text": [
      " 77%|███████▋  | 23/30 [1:43:16<31:12, 267.53s/it]"
     ]
    },
    {
     "name": "stdout",
     "output_type": "stream",
     "text": [
      "Epoch 23/30, Train_Loss: 0.0299,  Train_Acc: 0.9899, Val_Loss: 0.1912,  Val_Acc: 0.9508, [4 mins]\n"
     ]
    },
    {
     "name": "stderr",
     "output_type": "stream",
     "text": [
      " 80%|████████  | 24/30 [1:47:44<26:45, 267.61s/it]"
     ]
    },
    {
     "name": "stdout",
     "output_type": "stream",
     "text": [
      "Epoch 24/30, Train_Loss: 0.0282,  Train_Acc: 0.9901, Val_Loss: 0.1687,  Val_Acc: 0.9522, [4 mins]\n"
     ]
    },
    {
     "name": "stderr",
     "output_type": "stream",
     "text": [
      " 83%|████████▎ | 25/30 [1:52:12<22:17, 267.53s/it]"
     ]
    },
    {
     "name": "stdout",
     "output_type": "stream",
     "text": [
      "Epoch 25/30, Train_Loss: 0.0278,  Train_Acc: 0.9908, Val_Loss: 0.2459,  Val_Acc: 0.9326, [4 mins]\n"
     ]
    },
    {
     "name": "stderr",
     "output_type": "stream",
     "text": [
      " 87%|████████▋ | 26/30 [1:56:39<17:49, 267.47s/it]"
     ]
    },
    {
     "name": "stdout",
     "output_type": "stream",
     "text": [
      "Epoch 26/30, Train_Loss: 0.0259,  Train_Acc: 0.9916, Val_Loss: 0.2110,  Val_Acc: 0.9378, [4 mins]\n"
     ]
    },
    {
     "name": "stderr",
     "output_type": "stream",
     "text": [
      " 90%|█████████ | 27/30 [2:01:06<13:21, 267.33s/it]"
     ]
    },
    {
     "name": "stdout",
     "output_type": "stream",
     "text": [
      "Epoch 27/30, Train_Loss: 0.0249,  Train_Acc: 0.9907, Val_Loss: 0.2797,  Val_Acc: 0.9201, [4 mins]\n"
     ]
    },
    {
     "name": "stderr",
     "output_type": "stream",
     "text": [
      " 93%|█████████▎| 28/30 [2:05:33<08:54, 267.17s/it]"
     ]
    },
    {
     "name": "stdout",
     "output_type": "stream",
     "text": [
      "Epoch 28/30, Train_Loss: 0.0246,  Train_Acc: 0.9913, Val_Loss: 0.2163,  Val_Acc: 0.9415, [4 mins]\n"
     ]
    },
    {
     "name": "stderr",
     "output_type": "stream",
     "text": [
      " 97%|█████████▋| 29/30 [2:10:00<04:27, 267.09s/it]"
     ]
    },
    {
     "name": "stdout",
     "output_type": "stream",
     "text": [
      "Epoch 29/30, Train_Loss: 0.0215,  Train_Acc: 0.9933, Val_Loss: 0.1978,  Val_Acc: 0.9557, [4 mins]\n"
     ]
    },
    {
     "name": "stderr",
     "output_type": "stream",
     "text": [
      "100%|██████████| 30/30 [2:14:27<00:00, 268.91s/it]"
     ]
    },
    {
     "name": "stdout",
     "output_type": "stream",
     "text": [
      "Epoch 30/30, Train_Loss: 0.0251,  Train_Acc: 0.9915, Val_Loss: 0.1958,  Val_Acc: 0.9494, [4 mins]\n"
     ]
    },
    {
     "name": "stderr",
     "output_type": "stream",
     "text": [
      "\n"
     ]
    }
   ],
   "source": [
    "best_loss = 10**5\n",
    "num_epochs = 30\n",
    "train_losses = []\n",
    "train_acc = []\n",
    "val_losses = []\n",
    "val_acc = []\n",
    "for epoch in tqdm(range(num_epochs)):\n",
    "    model.train()\n",
    "    train_loss = 0.0\n",
    "    accuracy = 0\n",
    "    cnt = 0\n",
    "    time_start = time.time()\n",
    "    for X, y in dl_train:\n",
    "        X, y = X.to(device), y.to(device)\n",
    "        optimizer.zero_grad()\n",
    "        outputs = model(X)\n",
    "        loss = criterion(outputs, y)\n",
    "        loss.backward()\n",
    "        optimizer.step()\n",
    "        train_loss += loss.item()\n",
    "        accuracy += (torch.argmax(outputs, 1) == y).sum().item()\n",
    "        cnt += len(y)\n",
    "    train_loss /= len(dl_train)\n",
    "    train_losses.append(train_loss)\n",
    "    accuracy /= cnt\n",
    "    train_acc.append(accuracy)\n",
    "\n",
    "\n",
    "    model.eval()\n",
    "    val_loss = 0.0\n",
    "    val_accuracy = 0\n",
    "    cnt = 0\n",
    "    with torch.no_grad():\n",
    "        for X, y in dl_val:\n",
    "            X, y = X.to(device), y.to(device)\n",
    "            outputs = model(X)\n",
    "            loss = criterion(outputs, y)\n",
    "            val_loss += loss.item()\n",
    "            val_accuracy += (torch.argmax(outputs, 1) == y).sum().item()\n",
    "            cnt += len(y)\n",
    "    val_loss /= len(dl_val)\n",
    "    val_losses.append(val_loss)\n",
    "    val_accuracy /= cnt\n",
    "    val_acc.append(val_accuracy)\n",
    "    \n",
    "    elapsed = time.time() - time_start\n",
    "    \n",
    "    # Save checkpoint\n",
    "    chk_name = f'/kaggle/working/pytorch_model_e{epoch}.bin'\n",
    "    torch.save(model.state_dict(), chk_name)\n",
    "    if val_loss < best_loss:\n",
    "        best_loss = val_loss\n",
    "        torch.save(model.state_dict(), '/kaggle/working/pytorch_model.bin')\n",
    "\n",
    "    print(f\"Epoch {epoch+1}/{num_epochs}, Train_Loss: {train_loss:.4f},  Train_Acc: {accuracy:.4f}, Val_Loss: {val_loss:.4f},  Val_Acc: {val_accuracy:.4f}, [{elapsed/60:.0f} mins]\")"
   ]
  },
  {
   "cell_type": "code",
   "execution_count": 10,
   "id": "e14b94b0",
   "metadata": {
    "execution": {
     "iopub.execute_input": "2024-03-23T16:38:24.421322Z",
     "iopub.status.busy": "2024-03-23T16:38:24.420981Z",
     "iopub.status.idle": "2024-03-23T16:38:24.731564Z",
     "shell.execute_reply": "2024-03-23T16:38:24.730637Z"
    },
    "id": "lDeuKjPn2NET",
    "papermill": {
     "duration": 0.324452,
     "end_time": "2024-03-23T16:38:24.734034",
     "exception": false,
     "start_time": "2024-03-23T16:38:24.409582",
     "status": "completed"
    },
    "tags": []
   },
   "outputs": [
    {
     "data": {
      "image/png": "[encoded data removed]",
      "text/plain": [
       "<Figure size 640x480 with 1 Axes>"
      ]
     },
     "metadata": {},
     "output_type": "display_data"
    }
   ],
   "source": [
    "import matplotlib.pyplot as plt\n",
    "\n",
    "# Số lượng epoch tương ứng với các giá trị loss\n",
    "epochs = range(1, len(train_losses) + 1)\n",
    "\n",
    "# Vẽ đồ thị\n",
    "plt.plot(epochs, train_losses, 'b', label='Train Loss')\n",
    "plt.plot(epochs, val_losses, 'r', label='Validation Loss')\n",
    "plt.xlabel('Epoch')\n",
    "plt.ylabel('Loss')\n",
    "plt.legend()\n",
    "plt.show()"
   ]
  },
  {
   "cell_type": "code",
   "execution_count": 11,
   "id": "58f6643d",
   "metadata": {
    "execution": {
     "iopub.execute_input": "2024-03-23T16:38:24.757723Z",
     "iopub.status.busy": "2024-03-23T16:38:24.757423Z",
     "iopub.status.idle": "2024-03-23T16:38:25.041471Z",
     "shell.execute_reply": "2024-03-23T16:38:25.040472Z"
    },
    "papermill": {
     "duration": 0.298675,
     "end_time": "2024-03-23T16:38:25.043919",
     "exception": false,
     "start_time": "2024-03-23T16:38:24.745244",
     "status": "completed"
    },
    "tags": []
   },
   "outputs": [
    {
     "data": {
      "image/png": "[encoded data removed]",
      "text/plain": [
       "<Figure size 640x480 with 1 Axes>"
      ]
     },
     "metadata": {},
     "output_type": "display_data"
    }
   ],
   "source": [
    "import matplotlib.pyplot as plt\n",
    "\n",
    "# Số lượng epoch tương ứng với các giá trị loss\n",
    "epochs = range(1, len(train_losses) + 1)\n",
    "\n",
    "# Vẽ đồ thị\n",
    "plt.plot(epochs, train_acc, 'b', label='Train Acc')\n",
    "plt.plot(epochs, val_acc, 'r', label='Validation Acc')\n",
    "plt.xlabel('Epoch')\n",
    "plt.ylabel('Accuracy')\n",
    "plt.legend()\n",
    "plt.show()"
   ]
  },
  {
   "cell_type": "code",
   "execution_count": 12,
   "id": "7b36ca3a",
   "metadata": {
    "execution": {
     "iopub.execute_input": "2024-03-23T16:38:25.070730Z",
     "iopub.status.busy": "2024-03-23T16:38:25.070376Z",
     "iopub.status.idle": "2024-03-23T16:39:09.486550Z",
     "shell.execute_reply": "2024-03-23T16:39:09.484802Z"
    },
    "papermill": {
     "duration": 44.432589,
     "end_time": "2024-03-23T16:39:09.489471",
     "exception": false,
     "start_time": "2024-03-23T16:38:25.056882",
     "status": "completed"
    },
    "tags": []
   },
   "outputs": [],
   "source": [
    "weight_path = \"/kaggle/working/pytorch_model.bin\"\n",
    "test_losses = []\n",
    "test_acc = []\n",
    "model.load_state_dict(torch.load(weight_path))\n",
    "\n",
    "with torch.no_grad():\n",
    "    test_loss = 0.0\n",
    "    test_accuracy = 0\n",
    "    cnt = 0\n",
    "    for X, y in dl_test:\n",
    "        X, y = X.to(device), y.to(device)\n",
    "        model.eval()\n",
    "        outputs = model(X)\n",
    "        loss = criterion(outputs, y)\n",
    "        test_loss += loss.item()\n",
    "        test_accuracy += (torch.argmax(outputs, 1) == y).sum().item()\n",
    "        cnt += len(y)\n",
    "    test_loss /= len(dl_test)\n",
    "    test_losses.append(test_loss)\n",
    "    test_accuracy /= cnt\n",
    "    test_acc.append(test_accuracy)"
   ]
  },
  {
   "cell_type": "code",
   "execution_count": 13,
   "id": "c2d8c993",
   "metadata": {
    "execution": {
     "iopub.execute_input": "2024-03-23T16:39:09.516922Z",
     "iopub.status.busy": "2024-03-23T16:39:09.516551Z",
     "iopub.status.idle": "2024-03-23T16:39:09.522205Z",
     "shell.execute_reply": "2024-03-23T16:39:09.521146Z"
    },
    "papermill": {
     "duration": 0.021798,
     "end_time": "2024-03-23T16:39:09.524440",
     "exception": false,
     "start_time": "2024-03-23T16:39:09.502642",
     "status": "completed"
    },
    "tags": []
   },
   "outputs": [
    {
     "name": "stdout",
     "output_type": "stream",
     "text": [
      "[0.8126228863546991]\n",
      "[0.8604596671648324]\n"
     ]
    }
   ],
   "source": [
    "print(test_acc)\n",
    "print(test_losses)"
   ]
  },
  {
   "cell_type": "code",
   "execution_count": null,
   "id": "48ff266b",
   "metadata": {
    "papermill": {
     "duration": 0.011781,
     "end_time": "2024-03-23T16:39:09.548980",
     "exception": false,
     "start_time": "2024-03-23T16:39:09.537199",
     "status": "completed"
    },
    "tags": []
   },
   "outputs": [],
   "source": []
  }
 ],
 "metadata": {
  "colab": {
   "provenance": []
  },
  "kaggle": {
   "accelerator": "nvidiaTeslaT4",
   "dataSources": [
    {
     "datasetId": 4595378,
     "sourceId": 7906848,
     "sourceType": "datasetVersion"
    }
   ],
   "dockerImageVersionId": 30665,
   "isGpuEnabled": true,
   "isInternetEnabled": true,
   "language": "python",
   "sourceType": "notebook"
  },
  "kernelspec": {
   "display_name": "Python 3",
   "language": "python",
   "name": "python3"
  },
  "language_info": {
   "codemirror_mode": {
    "name": "ipython",
    "version": 3
   },
   "file_extension": ".py",
   "mimetype": "text/x-python",
   "name": "python",
   "nbconvert_exporter": "python",
   "pygments_lexer": "ipython3",
   "version": "3.10.13"
  },
  "papermill": {
   "default_parameters": {},
   "duration": 8128.878724,
   "end_time": "2024-03-23T16:39:12.223055",
   "environment_variables": {},
   "exception": null,
   "input_path": "__notebook__.ipynb",
   "output_path": "__notebook__.ipynb",
   "parameters": {},
   "start_time": "2024-03-23T14:23:43.344331",
   "version": "2.5.0"
  }
 },
 "nbformat": 4,
 "nbformat_minor": 5
}
